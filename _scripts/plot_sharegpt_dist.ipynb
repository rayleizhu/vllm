{
 "cells": [
  {
   "cell_type": "code",
   "execution_count": null,
   "metadata": {},
   "outputs": [],
   "source": [
    "import matplotlib.pyplot as plt\n",
    "import pandas as pd\n",
    "import numpy as np\n",
    "\n",
    "# from matplotlib.ticker import FormatStrFormatter\n",
    "from matplotlib.ticker import FuncFormatter\n",
    "\n",
    "df = pd.read_csv('../stat/ShareGPT_stat.csv', names=['li', 'lo'])\n",
    "\n",
    "\n",
    "plt_context = plt.style.context(['light'])\n",
    "import contextlib\n",
    "plt_context = contextlib.nullcontext()\n",
    "\n",
    "def my_formatter(x, pos=None):\n",
    "    # Format the tick value as a string with no leading zeros\n",
    "    val_str = '{:.1f}'.format(x*100)\n",
    "    return val_str\n",
    "\n",
    "plt.rcParams.update({'font.size': 14,\n",
    "                     'font.weight': 'bold',\n",
    "                     'lines.markersize': 10,\n",
    "                     'lines.linewidth': 2,\n",
    "                     'font.family': 'serif',\n",
    "                     'font.serif': 'Times New Roman',\n",
    "                     'axes.linewidth': 2\n",
    "                     })\n",
    "\n",
    "print(df['li'].mean())\n",
    "print(df['lo'].mean())\n",
    "# y_ticks = np.arange(0.0, 2.0, 0.5)\n",
    "with plt_context:\n",
    "    figure, ax = plt.subplots()\n",
    "    # plt.hist(df['li'], bins=100, density=True, alpha=0.7, label=f\"input (mean:{df['li'].mean():.1f}, median:{df['li'].median():.1f})\")\n",
    "    # plt.hist(df['lo'], bins=100, density=True, alpha=0.5, label=f\"output (mean:{df['lo'].mean():.1f}, median:{df['lo'].median():.1f})\")\n",
    "    plt.hist(df['li'], bins=100, density=True, alpha=0.7, label=f\"input (mean:{df['li'].mean():.1f})\")\n",
    "    plt.hist(df['lo'], bins=100, density=True, alpha=0.5, label=f\"output (mean:{df['lo'].mean():.1f})\")\n",
    "    plt.legend(ncol=1, loc='upper center', fontsize=16)\n",
    "    plt.gca().yaxis.set_major_formatter(FuncFormatter(my_formatter))\n",
    "    # plt.yticks(y_ticks)\n",
    "    plt.text(0, 1.02, '1e-2', transform=plt.gca().transAxes, ha='left', va='bottom')\n",
    "    plt.savefig('../stat/sharegpt_stat.svg')\n",
    "    plt.show()"
   ]
  },
  {
   "cell_type": "code",
   "execution_count": null,
   "metadata": {},
   "outputs": [],
   "source": []
  }
 ],
 "metadata": {
  "kernelspec": {
   "display_name": "plot",
   "language": "python",
   "name": "python3"
  },
  "language_info": {
   "codemirror_mode": {
    "name": "ipython",
    "version": 3
   },
   "file_extension": ".py",
   "mimetype": "text/x-python",
   "name": "python",
   "nbconvert_exporter": "python",
   "pygments_lexer": "ipython3",
   "version": "3.8.13"
  }
 },
 "nbformat": 4,
 "nbformat_minor": 2
}
